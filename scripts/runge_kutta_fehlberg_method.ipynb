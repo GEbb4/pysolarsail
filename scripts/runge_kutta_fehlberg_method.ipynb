{
 "cells": [
  {
   "cell_type": "markdown",
   "id": "4b1aa22f",
   "metadata": {},
   "source": [
    "# The Runge-Kutta-Fehlberg Method\n",
    "The Runge-Kutta-Fehlberg (RKF) method is a numerical method for solving differential equations. It uses a Runge-Kutta (RK) numerical method of order $N$ to solve the problem and runs a second RK method of order $N + 1$ to estimate the error.\n",
    "\n",
    "For this analysis, the RKF45 method is used; an RK4 method with an RK5 error-estimator."
   ]
  },
  {
   "cell_type": "markdown",
   "id": "406ff57f",
   "metadata": {},
   "source": [
    "# Solarsail Dynamics\n",
    "The "
   ]
  },
  {
   "cell_type": "markdown",
   "id": "59402608",
   "metadata": {},
   "source": [
    "# Phrasing Solarsails for RKF\n",
    "The combined force on a solarsail is therefore given by\n",
    "$$\n",
    "F = \\frac{GMm}{r^2} + \n",
    "$$"
   ]
  },
  {
   "cell_type": "code",
   "execution_count": null,
   "id": "1bde951e",
   "metadata": {},
   "outputs": [],
   "source": []
  }
 ],
 "metadata": {
  "kernelspec": {
   "display_name": "Python 3 (ipykernel)",
   "language": "python",
   "name": "python3"
  },
  "language_info": {
   "codemirror_mode": {
    "name": "ipython",
    "version": 3
   },
   "file_extension": ".py",
   "mimetype": "text/x-python",
   "name": "python",
   "nbconvert_exporter": "python",
   "pygments_lexer": "ipython3",
   "version": "3.9.5"
  }
 },
 "nbformat": 4,
 "nbformat_minor": 5
}
