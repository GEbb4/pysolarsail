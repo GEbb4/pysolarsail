{
 "cells": [
  {
   "cell_type": "markdown",
   "id": "4b1aa22f",
   "metadata": {},
   "source": [
    "# The Runge-Kutta-Fehlberg Method\n",
    "The Runge-Kutta-Fehlberg (RKF) method is a numerical method for solving differential equations. It uses a Runge-Kutta (RK) numerical method of order $N$ to solve the problem and runs a second RK method of order $N + 1$ to estimate the error.\n",
    "\n",
    "For this analysis, the RKF45 method is used; an RK4 method with an RK5 error-estimator."
   ]
  },
  {
   "cell_type": "markdown",
   "id": "406ff57f",
   "metadata": {},
   "source": [
    "# Solarsail Dynamics\n",
    "The "
   ]
  },
  {
   "cell_type": "markdown",
   "id": "fcbb4534",
   "metadata": {},
   "source": [
    "# Phrasing Solarsails for RKF\n",
    "The combined force on a solarsail is therefore given by\n",
    "$$\n",
    "\\boldsymbol{F} = \\frac{GMm}{r^2}\\boldsymbol{n} + \\frac{S_0 r_0^2}{cr^2}A\\sqrt{(G\\cos(\\beta) + K)^2 + H^2 \\sin^2(\\beta)} \\cos(\\beta) \\boldsymbol{f}\n",
    "$$\n",
    "Of course, force is a 3-vector. The gravity (first) component is in the direction between the two centres of mass of the bodies; the solarsail (second) component is in the direction given by $\\boldsymbol{f}$.\n",
    "\n",
    "Since we know that Newton's second law must hold, we can rewrite the above expression to get an expression for the acceleration of the spacecraft. This can be used as the dynamics model.\n",
    "$$\n",
    "\\frac{F}{m} = \\boldsymbol{a} = \\frac{1}{r^2}\\Biggl(GM\\boldsymbol{n} + \\frac{S_0 r_0^2 A \\cos(\\beta) \\boldsymbol{f}}{cm} \\sqrt{(G\\cos(\\beta) + K)^2 + H^2 \\sin^2(\\beta)} \\Biggr)\n",
    "$$"
   ]
  },
  {
   "cell_type": "markdown",
   "id": "ed766e1e",
   "metadata": {},
   "source": [
    "# Phrasing Runge-Kutta (RK) for Solarsails\n",
    "The problem we're trying to solve is expressable in the form $\\boldsymbol{F} = m\\ddot{\\boldsymbol{x}}$ where $\\boldsymbol{x}$ is position, $\\boldsymbol{v} = \\dot{\\boldsymbol{x}}$ is the velocity, and $\\boldsymbol{a} = \\ddot{\\boldsymbol{x}}$ is the acceleration. So, we can express the equation as a system of first-order equations:\n",
    "$$\n",
    "\\begin{bmatrix} \\dot{\\boldsymbol{x}} \\\\ \\dot{\\boldsymbol{v}} \\end{bmatrix} = \\begin{bmatrix} \\boldsymbol{v} \\\\ \\boldsymbol{a}\\end{bmatrix}\n",
    "$$\n",
    "Then letting\n",
    "$$\n",
    "\\boldsymbol{X} = \\begin{bmatrix} \\boldsymbol{x} \\\\ \\boldsymbol{v}\\end{bmatrix}\n",
    "$$\n",
    "and defining the right-hand matrix as\n",
    "$$\n",
    "RHS(\\boldsymbol{X}) = \\begin{bmatrix} \\boldsymbol{v} \\\\ \\boldsymbol{a}\\end{bmatrix}\n",
    "$$"
   ]
  }
 ],
 "metadata": {
  "kernelspec": {
   "display_name": "Python 3.8.3 64-bit",
   "language": "python",
   "name": "python3"
  },
  "language_info": {
   "codemirror_mode": {
    "name": "ipython",
    "version": 3
   },
   "file_extension": ".py",
   "mimetype": "text/x-python",
   "name": "python",
   "nbconvert_exporter": "python",
   "pygments_lexer": "ipython3",
   "version": "3.8.3"
  },
  "vscode": {
   "interpreter": {
    "hash": "9650cb4e16cdd4a8e8e2d128bf38d875813998db22a3c986335f89e0cb4d7bb2"
   }
  }
 },
 "nbformat": 4,
 "nbformat_minor": 5
}
